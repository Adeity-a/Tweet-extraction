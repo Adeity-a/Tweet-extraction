{
  "nbformat": 4,
  "nbformat_minor": 0,
  "metadata": {
    "colab": {
      "name": "Tweepy-extraction",
      "provenance": [],
      "collapsed_sections": []
    },
    "kernelspec": {
      "name": "python3",
      "display_name": "Python 3"
    },
    "language_info": {
      "name": "python"
    }
  },
  "cells": [
    {
      "cell_type": "code",
      "source": [
        "!pip install tweepy"
      ],
      "metadata": {
        "id": "1U60OiUyBwg8"
      },
      "execution_count": null,
      "outputs": []
    },
    {
      "cell_type": "code",
      "execution_count": 1,
      "metadata": {
        "id": "5F7reVMG7TYC"
      },
      "outputs": [],
      "source": [
        "import tweepy\n",
        "import pandas as pd\n",
        "import datetime"
      ]
    },
    {
      "cell_type": "code",
      "source": [
        "#to get the belo 4 values (API Key, API Secret, Access Token and Access Secret Token), you need to create a Twitter developer account \n",
        "#basis the account access, you can retrieve the historical tweets\n",
        "\n",
        "akey = 'API Key'\n",
        "asec = 'API Secret'\n",
        "actoken = 'Access Token'\n",
        "actoken_secret = 'Access Secret Token'\n",
        "\n",
        "#authorizing the account \n",
        "auth = tweepy.OAuthHandler(akey, asec)\n",
        "auth.set_access_token(actoken, actoken_secret)\n",
        "\n",
        "api = tweepy.API(auth,wait_on_rate_limit=True)\n",
        "\n",
        "searchphrase = \"COVID-19\"\n",
        "filtersearch = searchphrase + \" -filter:retweets\"\n",
        "datesince = '2021-12-01' #either you can pass the date as string\n",
        "untildate = '2021-12-02'\n",
        "day0=datetime.date.today() #also, you can use the datetime function\n",
        "print(day0)\n",
        "day1=day0 - datetime.timedelta(days=35) #end date\n",
        "print(day1)\n",
        "day2=day1 - datetime.timedelta(days=365) #begin date, a year prior to end date\n",
        "print(day2)"
      ],
      "metadata": {
        "id": "On9mv7ul8fhh"
      },
      "execution_count": null,
      "outputs": []
    },
    {
      "cell_type": "code",
      "source": [
        "#to get the tweets, you have to iteratively run the cursor function\n",
        "\n",
        "usersdata = [[tweet.user.screen_name, tweet.user.location, tweet.created_at, tweet.full_text] #extracts users' handle, location, date-time of tweet and full tweet text\n",
        "             for tweet in tweepy.Cursor(api.search, q=filtersearch, since = untildate, lang=\"en\", tweet_mode = 'extended').items()]\n",
        "usertweet = pd.DataFrame(data=usersdata, columns = ('User Handle','Location','Date', 'Tweet')) #storing the informaiton as a dataframe\n",
        "usertweet"
      ],
      "metadata": {
        "id": "qNDPh6HZ8whe"
      },
      "execution_count": null,
      "outputs": []
    }
  ]
}